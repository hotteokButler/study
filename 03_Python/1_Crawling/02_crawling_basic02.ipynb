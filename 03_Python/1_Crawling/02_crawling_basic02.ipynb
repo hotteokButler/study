{
 "cells": [
  {
   "cell_type": "markdown",
   "id": "ccc4ab66-6677-42d3-8497-bfd7ffff2997",
   "metadata": {},
   "source": [
    "## 🔎크롤링 관련\n",
    "\n",
    "\n",
    "### 문자열 내부 특정 문제 제거\n",
    "\n",
    "#### ✅ 1. `replace()` 메서드 사용\n",
    "- `replace()' : 문자열 내 모든 해당 문자를 제거\n",
    "- 제거하려는 문자를 빈 문자열로 대체\n",
    "\n",
    "```python\n",
    "text = \"Hello, World!\"\n",
    "result = text.replace(\"Hello, \", \"\")\n",
    "print(result)  # 출력: World!\n",
    "```\n",
    "<br>\n",
    "\n",
    "#### ✅ 2. translate() 메서드 사용\n",
    "- `translate()` : 지정 문자 모두 제거\n",
    "- 여러 문자를 한 번에 제거할 때\n",
    "\n",
    "```python\n",
    "text = \"Hello$@&! world***$\"\n",
    "remove_chars = \"$@&*!\"\n",
    "translation_table = str.maketrans('', '', remove_chars)\n",
    "result = text.translate(translation_table)\n",
    "print(result)  # 출력: Hello world\n",
    "```\n",
    "<br>\n",
    "\n",
    "#### ✅ 3. 정규 표현식 (re.sub) 사용\n",
    "- 라이브러리 `re` 모듈 사용\n",
    "- 특정 패턴의 문자 제거 시 유용\n",
    "```python\n",
    "import re\n",
    "\n",
    "text = \"Hello$@& world$\"\n",
    "result = re.sub(r\"[$@&]\", \"\", text)\n",
    "print(result)  # 출력: Hello world\n",
    "\n",
    "```\n",
    "<br>\n",
    "\n",
    "#### ✅ 4. strip(), lstrip(), rstrip() 메서드 사용\n",
    "- ans"
   ]
  },
  {
   "cell_type": "code",
   "execution_count": null,
   "id": "7f8a10b9-1657-4673-9cdf-09a47764810b",
   "metadata": {},
   "outputs": [],
   "source": []
  },
  {
   "cell_type": "code",
   "execution_count": null,
   "id": "79a2f6aa-dca1-4916-8752-40fe77e93c6d",
   "metadata": {},
   "outputs": [],
   "source": []
  },
  {
   "cell_type": "code",
   "execution_count": null,
   "id": "5120cfcc-a832-4693-ac0d-179ddb4d2b96",
   "metadata": {},
   "outputs": [],
   "source": []
  },
  {
   "cell_type": "code",
   "execution_count": null,
   "id": "1fd3ef18-10e7-44ed-81ee-e65a910997ab",
   "metadata": {},
   "outputs": [],
   "source": []
  },
  {
   "cell_type": "markdown",
   "id": "2945d78e-b3b9-4973-bc8e-329af9fe9f83",
   "metadata": {},
   "source": [
    "### 🔖 참고(인용)\n",
    "> [인프런: 파이썬으로 크롤링 시작하기 - 기본편](https://www.inflearn.com/course/python-crawling-basic)"
   ]
  },
  {
   "cell_type": "code",
   "execution_count": null,
   "id": "a53779ef-f031-408b-b463-78284d44592a",
   "metadata": {},
   "outputs": [],
   "source": []
  }
 ],
 "metadata": {
  "kernelspec": {
   "display_name": "Python [conda env:base] *",
   "language": "python",
   "name": "conda-base-py"
  },
  "language_info": {
   "codemirror_mode": {
    "name": "ipython",
    "version": 3
   },
   "file_extension": ".py",
   "mimetype": "text/x-python",
   "name": "python",
   "nbconvert_exporter": "python",
   "pygments_lexer": "ipython3",
   "version": "3.12.7"
  }
 },
 "nbformat": 4,
 "nbformat_minor": 5
}
