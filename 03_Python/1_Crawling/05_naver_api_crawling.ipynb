{
 "cells": [
  {
   "cell_type": "markdown",
   "id": "8ca4b4be-d549-4b2c-8723-baeb58ee2fdd",
   "metadata": {},
   "source": [
    "## naver open api 활용"
   ]
  },
  {
   "cell_type": "code",
   "execution_count": 58,
   "id": "7553943d-4cff-4e79-8431-7f2604e5746e",
   "metadata": {},
   "outputs": [],
   "source": [
    "import re\n",
    "\n",
    "def remove_html_tags(text):\n",
    "    clean = re.compile('<.*?>')\n",
    "    return re.sub(clean, '', text)"
   ]
  },
  {
   "cell_type": "code",
   "execution_count": 72,
   "id": "53990311-478e-4087-9892-0fa0cbd794a5",
   "metadata": {},
   "outputs": [
    {
     "name": "stdin",
     "output_type": "stream",
     "text": [
      "검색어를 입력해주세요 대학생 노트북\n"
     ]
    },
    {
     "name": "stdout",
     "output_type": "stream",
     "text": [
      "생성 완료\n"
     ]
    }
   ],
   "source": [
    "import requests\n",
    "import pprint #결과를 구조적으로 프린트\n",
    "from urllib.parse import quote\n",
    "import openpyxl\n",
    "\n",
    "\n",
    "client_id = '내 api 아이디'\n",
    "client_secret = '내 api 시크릿'\n",
    "\n",
    "naver_open_api_url = 'https://openapi.naver.com/v1/search'\n",
    "header_params = {'X-Naver-Client-Id' : client_id,'X-Naver-Client-Secret' : client_secret}\n",
    "\n",
    "search_query = str(input('검색어를 입력해주세요')).strip()\n",
    "encoded_query = quote(search_query)\n",
    "\n",
    "num = 0\n",
    "\n",
    "#excel 생성\n",
    "excel_file = openpyxl.Workbook()\n",
    "excel_sheet = excel_file.active\n",
    "excel_sheet.column_dimensions['B'].width = 100\n",
    "excel_sheet.column_dimensions['C'].width = 100\n",
    "excel_sheet.append(['랭킹','제목','링크','가격'])\n",
    "# 제목행\n",
    "for row in excel_sheet.iter_rows(min_row=1, max_row=1, min_col=1, max_col=3):\n",
    "    for cell in row:\n",
    "        cell.font = openpyxl.styles.Font( size=14, bold=True)\n",
    "        cell.border = openpyxl.styles.Border(bottom=openpyxl.styles.Side(style='thick'))\n",
    "\n",
    "#data crawling\n",
    "\n",
    "for idx in range(10):\n",
    "    start_index = 1 + (idx * 100)\n",
    "    search_request_param = '/shop.json?query='+encoded_query+'&display=100&start=1&sort=sim&start='+str(start_index)\n",
    "    request_url = naver_open_api_url + search_request_param\n",
    "    res = requests.get(request_url, headers=header_params)\n",
    "    \n",
    "    if res.status_code == 200 :\n",
    "        data = res.json()\n",
    "        for item in data['items'] :\n",
    "            num+=1\n",
    "            excel_sheet.append([num, remove_html_tags(item['title']), item['link'] , item['lprice']])\n",
    "        \n",
    "    else :\n",
    "        print ('Error:', res.status_code)\n",
    "\n",
    "# excel_save\n",
    "excel_file.save(search_query+'검색 쇼핑 순위.xlsx')\n",
    "excel_file.close()\n",
    "print('생성 완료')"
   ]
  },
  {
   "cell_type": "code",
   "execution_count": null,
   "id": "f19b4be8-5bc0-4c05-8676-baee910d81c9",
   "metadata": {},
   "outputs": [],
   "source": []
  },
  {
   "cell_type": "markdown",
   "id": "2945d78e-b3b9-4973-bc8e-329af9fe9f83",
   "metadata": {},
   "source": [
    "### 🔖 참고(인용)\n",
    "> [인프런: 파이썬으로 크롤링 시작하기 - 기본편](https://www.inflearn.com/course/python-crawling-basic)"
   ]
  },
  {
   "cell_type": "code",
   "execution_count": null,
   "id": "879b5ea9-26d5-40d0-a386-a8a605232767",
   "metadata": {},
   "outputs": [],
   "source": []
  },
  {
   "cell_type": "code",
   "execution_count": null,
   "id": "6346433b-6f89-4fb8-bd8d-fb01d2587ef4",
   "metadata": {},
   "outputs": [],
   "source": []
  },
  {
   "cell_type": "code",
   "execution_count": null,
   "id": "e13c5a89-9bec-401b-a9b7-7aa41f5877fd",
   "metadata": {},
   "outputs": [],
   "source": []
  },
  {
   "cell_type": "code",
   "execution_count": null,
   "id": "ff2181d6-259f-4985-b08b-f86fd5c96c7d",
   "metadata": {},
   "outputs": [],
   "source": []
  }
 ],
 "metadata": {
  "kernelspec": {
   "display_name": "Python [conda env:base] *",
   "language": "python",
   "name": "conda-base-py"
  },
  "language_info": {
   "codemirror_mode": {
    "name": "ipython",
    "version": 3
   },
   "file_extension": ".py",
   "mimetype": "text/x-python",
   "name": "python",
   "nbconvert_exporter": "python",
   "pygments_lexer": "ipython3",
   "version": "3.12.7"
  }
 },
 "nbformat": 4,
 "nbformat_minor": 5
}
