{
 "cells": [
  {
   "cell_type": "markdown",
   "id": "8ca4b4be-d549-4b2c-8723-baeb58ee2fdd",
   "metadata": {},
   "source": [
    "## XML(eXtensible Markup Language)\n",
    "\n",
    "- 특정 목적에 따라 데이터를 태그로 감싸 마크업하는 범용적 포멧\n",
    "- 마크업 언어는 태그 등을 이용하여 데이터의 구조 기술 ex) html\n",
    "- XML은 HTML과 같이 데이터를 계층 구조로 표현\n",
    "- XML 기본 구조\n",
    "  ```xml\n",
    "  <태그 속성=\"값\">내용</태그>\n",
    "  ```\n",
    "  - 태그나 속성 이름은 정해진 것이 아닌, data를 xml 형식으로 바꾸고자 하는 사람이 목표에 맞게 태그와 속성을 정함\n",
    "  "
   ]
  },
  {
   "cell_type": "markdown",
   "id": "b060040e-bb1f-44b4-be1a-ac55cd911725",
   "metadata": {},
   "source": [
    "---"
   ]
  },
  {
   "cell_type": "code",
   "execution_count": 38,
   "id": "aa81d6e5-5a33-48ac-b8ba-621fd6e6587a",
   "metadata": {},
   "outputs": [],
   "source": [
    "xmldata = '''\n",
    "<?xml version=\"1.0\" encoding=\"UTF-8\"?>\n",
    "<rss version=\"2.0\">\n",
    "    <channel>\n",
    "        <title>Naver Open API - news ::&apos;환율&apos;</title>\n",
    "        <link>https://search.naver.com</link>\n",
    "        <description>Naver Search Result</description>\n",
    "        <lastBuildDate>Tue, 10 Jun 2025 16:19:05 +0900</lastBuildDate>\n",
    "        <total>2123976</total>\n",
    "        <start>1</start>\n",
    "        <display>10</display>\n",
    "        <item>\n",
    "            <title>“금리·&lt;b&gt;환율&lt;/b&gt; 널뛰더니”…사상 최대 2경 6461조원 거래된 ‘이것’ 정...</title>\n",
    "            <originallink>https://www.mk.co.kr/article/11338375</originallink>\n",
    "            <link>https://n.news.naver.com/mnews/article/009/0005506025?sid=101</link>\n",
    "            <description>통화선도·이자율 스와프 증가 영향 지난해 &lt;b&gt;환율&lt;/b&gt;·금리 변동성 확대에 따른 헤지 수요가 급증하면서... 통화선도 거래는 대외무역 규모가 늘고 &lt;b&gt;환율&lt;/b&gt; 변동성에 따른 헤지 거래도 증가하면서 전년대비 1021조원(6.0... </description>\n",
    "            <pubDate>Tue, 10 Jun 2025 09:32:00 +0900</pubDate>\n",
    "        </item>\n",
    "        <item>\n",
    "            <title>韓 &lt;b&gt;환율&lt;/b&gt; 관찰대상국 재지정…원달러 영향은</title>\n",
    "            <originallink>https://www.newsis.com/view/NISX20250609_0003205491</originallink>\n",
    "            <link>https://n.news.naver.com/mnews/article/003/0013293883?sid=101</link>\n",
    "            <description>&lt;b&gt;환율&lt;/b&gt; 관찰대상국으로 재지정하면서 향후 원화 절상 압력이 더 커질 것이 전망이 나온다. 미국 달러 약세와 함께 새정부 기대에 따른 원화 강세에 원·달러가 연말 1300원까지 떨어질 수 있다는 분석이다. 반면, 이미 &lt;b&gt;환율&lt;/b&gt;... </description>\n",
    "            <pubDate>Tue, 10 Jun 2025 07:00:00 +0900</pubDate>\n",
    "        </item>\n",
    "        <item>\n",
    "            <title>&lt;b&gt;환율&lt;/b&gt;, 미 달러 약세·외국인 매수에 하락…1,350원대 중반</title>\n",
    "            <originallink>https://www.yna.co.kr/view/AKR20250610038400002?input=1195m</originallink>\n",
    "            <link>https://n.news.naver.com/mnews/article/001/0015440336?sid=101</link>\n",
    "            <description>원/달러 &lt;b&gt;환율&lt;/b&gt;은 10일 달러 약세와 외국인 매수에 하락세를 이어가고 있다. 이날 서울 외환시장에서 미국 달러화 대비 원화 &lt;b&gt;환율&lt;/b&gt;은 오전 9시 25분 현재 전일 주간 거래 종가(오후 3시 30분 기준)보다 1.7원 내린 1,354.... </description>\n",
    "            <pubDate>Tue, 10 Jun 2025 09:38:00 +0900</pubDate>\n",
    "        </item>\n",
    "        <item>\n",
    "            <title>&amp;quot;&lt;b&gt;환율&lt;/b&gt;변동에 은행장들 위험자산 점검주기 단축, SAS코리아 수혜&amp;quot;</title>\n",
    "            <originallink>https://www.news1.kr/it-science/general-it/5808990</originallink>\n",
    "            <link>https://n.news.naver.com/mnews/article/421/0008303810?sid=105</link>\n",
    "            <description>이 대표는 &amp;quot;IMF 이후 최고 수준까지 치솟은 &lt;b&gt;환율&lt;/b&gt;로 인해 은행의 외환 리스크가 상당히 커졌다&amp;quot;며 &amp;quot;시중은행 입장에서 0.01% &lt;b&gt;환율&lt;/b&gt; 변동만으로 수백억 원의 손익이 발생할 수 있어 실시간 모니터링이 필수가 됐다&amp;quot;고... </description>\n",
    "            <pubDate>Tue, 10 Jun 2025 12:45:00 +0900</pubDate>\n",
    "        </item>\n",
    "        <item>\n",
    "            <title>미중 합의 기대와 증시 호조 지속…&lt;b&gt;환율&lt;/b&gt; 1350원대 흐름[외환브리핑]</title>\n",
    "            <originallink>http://www.edaily.co.kr/news/newspath.asp?newsid=02571526642200408</originallink>\n",
    "            <link>https://n.news.naver.com/mnews/article/018/0006035307?sid=101</link>\n",
    "            <description>원·달러 &lt;b&gt;환율&lt;/b&gt;은 1350원 초반대로 하락이 예상된다. 영국 런던에서 진행되는 미국과 중국 간 무역 협상 기대감으로 달러화가 약세를 지속하고 있고, 국내증시에서 외국인 자금 유입도 연장되면서 &lt;b&gt;환율&lt;/b&gt;은 하락 압력이... </description>\n",
    "            <pubDate>Tue, 10 Jun 2025 08:15:00 +0900</pubDate>\n",
    "        </item>\n",
    "    </channel>\n",
    "</rss>\n",
    "'''"
   ]
  },
  {
   "cell_type": "code",
   "execution_count": 62,
   "id": "423c7806-c637-4486-9737-6305d26ef422",
   "metadata": {},
   "outputs": [],
   "source": [
    "import re\n",
    "\n",
    "def remove_html_tags(text):\n",
    "    clean = re.compile('<.*?>')\n",
    "    return re.sub(clean, '', text)"
   ]
  },
  {
   "cell_type": "code",
   "execution_count": 98,
   "id": "d5048e4d-4163-4c6d-8130-f7e96c3de4da",
   "metadata": {},
   "outputs": [
    {
     "name": "stdout",
     "output_type": "stream",
     "text": [
      "“금리·환율 널뛰더니”…사상 최대 2경 6461조원 거래된 ‘이것’ 정... | 2025-06-10 09:32:00\n",
      "--\n",
      "韓 환율 관찰대상국 재지정…원달러 영향은 | 2025-06-10 07:00:00\n",
      "--\n",
      "환율, 미 달러 약세·외국인 매수에 하락…1,350원대 중반 | 2025-06-10 09:38:00\n",
      "--\n",
      "\"환율변동에 은행장들 위험자산 점검주기 단축, SAS코리아 수혜\" | 2025-06-10 12:45:00\n",
      "--\n",
      "미중 합의 기대와 증시 호조 지속…환율 1350원대 흐름[외환브리핑] | 2025-06-10 08:15:00\n",
      "--\n"
     ]
    }
   ],
   "source": [
    "from bs4 import BeautifulSoup\n",
    "import html\n",
    "from datetime import datetime\n",
    "\n",
    "soup = BeautifulSoup(xmldata, 'lxml')\n",
    "\n",
    "data = soup.find_all('item')\n",
    "for item in data :\n",
    "    inform = item.find('title')\n",
    "    pubDate = item.find('pubdate').get_text() # 대문자로 쓰면 추출 못해서 all 소문자로 전달해 추출\n",
    "    dt = datetime.strptime(pubDate,\"%a, %d %b %Y %H:%M:%S %z\") # 문자열에 대해 strftime() 직접 사용 불가로 datetime 객체로 변환\n",
    "    formattedDt = dt.strftime(\"%Y-%m-%d %H:%M:%S\") # 원하는 포맷으로 출력\n",
    "    print(f'{html.unescape(remove_html_tags(inform.get_text()))} | {formattedDt}')\n",
    "    print('--')"
   ]
  },
  {
   "cell_type": "code",
   "execution_count": null,
   "id": "c24bf09a-7065-481e-8266-96a5efc4e90c",
   "metadata": {},
   "outputs": [],
   "source": []
  },
  {
   "cell_type": "code",
   "execution_count": null,
   "id": "d300929e-1679-415f-8829-09d8b93cbd0a",
   "metadata": {},
   "outputs": [],
   "source": []
  },
  {
   "cell_type": "code",
   "execution_count": null,
   "id": "1e10d7b0-8a89-4960-be1d-b14bd6bd744b",
   "metadata": {},
   "outputs": [],
   "source": []
  },
  {
   "cell_type": "markdown",
   "id": "2945d78e-b3b9-4973-bc8e-329af9fe9f83",
   "metadata": {},
   "source": [
    "### 🔖 참고(인용)\n",
    "> [인프런: 파이썬으로 크롤링 시작하기 - 기본편](https://www.inflearn.com/course/python-crawling-basic)"
   ]
  }
 ],
 "metadata": {
  "kernelspec": {
   "display_name": "Python [conda env:base] *",
   "language": "python",
   "name": "conda-base-py"
  },
  "language_info": {
   "codemirror_mode": {
    "name": "ipython",
    "version": 3
   },
   "file_extension": ".py",
   "mimetype": "text/x-python",
   "name": "python",
   "nbconvert_exporter": "python",
   "pygments_lexer": "ipython3",
   "version": "3.12.7"
  }
 },
 "nbformat": 4,
 "nbformat_minor": 5
}
