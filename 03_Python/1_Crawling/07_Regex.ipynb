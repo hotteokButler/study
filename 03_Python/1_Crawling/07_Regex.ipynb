{
 "cells": [
  {
   "cell_type": "markdown",
   "id": "6781971d-5d9d-479d-a338-8a00385c9fc1",
   "metadata": {},
   "source": [
    "# Regex\n",
    "\n",
    "## 1. 정규표현식이 필요한 이유 🌐\n",
    "\n",
    "* **텍스트 정제**: HTML 태그, 공백, `&nbsp;`, 줄바꿈 등 불필요한 요소 제거\n",
    "* **데이터 추출**: 이메일, 전화번호, URL, 날짜 등 일정한 패턴으로 된 정보 추출\n",
    "* **유효성 검사**: 크롤링한 데이터가 기대하는 형식(예: 전화번호 `010-xxxx-xxxx`)에 맞는지 검증\n",
    "* **패턴 기반 필터링**: 원하는 형식의 문자열만 선택적으로 저장 또는 분석\n",
    "\n",
    "📌 특히 크롤링 후 구조화되지 않은 텍스트에서 **정형화된 데이터 확보**에 필수적인 도구.\n",
    "\n",
    "\n",
    "## 2. Python `re` 라이브러리 주요 메서드\n",
    "\n",
    "\n",
    "```python\n",
    "import re\n",
    "\n",
    "# search(): 문자열 전체에서 패턴 탐색\n",
    "m = re.search(r\"\\d{4}-\\d{2}-\\d{2}\", text)\n",
    "\n",
    "# match(): 시작 부분이 패턴과 일치하는지\n",
    "m2 = re.match(r\"https?://\", url)\n",
    "\n",
    "# fullmatch(): 전체 문자열이 패턴과 완전 일치하는지\n",
    "m3 = re.fullmatch(r\"[A-Za-z0-9_]+\", username)\n",
    "\n",
    "# findall(): 모든 매칭 결과를 리스트로 반환\n",
    "dates = re.findall(r\"\\d{2}/\\d{2}/\\d{4}\", text)\n",
    "\n",
    "# finditer(): 매칭 결과 iterator 반환\n",
    "for match in re.finditer(r\"\\w+@\\w+\\.\\w+\", text):\n",
    "    print(match.group(), match.span())\n",
    "\n",
    "# sub(): 패턴을 다른 문자열로 치환\n",
    "clean = re.sub(r\"<.*?>\", \"\", html)\n",
    "\n",
    "# split(): 패턴 기준으로 문자열 분리\n",
    "parts = re.split(r\"\\s*,\\s*\", line)\n",
    "```\n",
    "\n",
    "반복 사용 시 **`re.compile()`** 으로 미리 컴파일하면 성능 향상 효과 있음.\n",
    "\n",
    "\n",
    "## 3. 정규표현식 패턴 만들기 & 자주 쓰는 예제\n",
    "\n",
    "### 3.1 패턴 구성 요소\n",
    "\n",
    "* `\\d`, `\\w`, `\\s` 등의 문자 클래스\n",
    "* `{m,n}`, `+`, `*`, `?` 등의 반복 수량 지정자\n",
    "  - `{n}` : 앞 문자가 n번 반복 (`AB{2}E`)\n",
    "  - `{m,n}` : 앞 문자가 m번 반복 ~ n번 반복까지 (`AB{1,4}F`)\n",
    "  - `?` : 앞 문자가 0번 또는 1번 표시되는 패턴( 없어도 되고 한번 있어도 됨 )\n",
    "  - `*` : 앞 문자가 0번 또는 그 이상 반복\n",
    "  - `+` : 앞 문자 1번 또는 그 이상 반복\n",
    "    \n",
    "* `^`, `$`, `\\b` 등 경계 표현\n",
    "* `.`, `[]`, `()`, `|` 등의 메타문자\n",
    "   - `[]` : 또는 ex) `[abc]` -> `a` or `b` or `c`\n",
    "       - `-` : 연속형 데이터 범주를 나타낼 수 있음 ex) `[a-d]`는 a b c d 중 하나가 들어있는 패턴 말함  \n",
    "* `re.IGNORECASE`, `re.MULTILINE`, `re.DOTALL` 플래그\n",
    "* \n",
    "| 정규 표현식         | 축약          | 사용 예시        |\n",
    "| --------------   | ---------------------- | --------------- |\n",
    "| `[0-9]`          | `\\d`         | 숫자 찾기         |\n",
    "| `[^0-9]`         | `\\D`         | 숫자가 아닌 것, 특수문자, white space ( 텍스트, 특수문자, 스페이스 텝 엔터 등)|\n",
    "|`[\\t\\n\\r\\f\\v]`      |  `\\s`       | white space |\n",
    "| `[^\\t\\n\\r\\f\\v]`    |  `\\S` | white space 문자가 아닌 것 |\n",
    "| `[A-Za-z0-9]` <-> `[^A-Za-z0-9]`    | `\\w` <-> `\\W`  | 문자, 숫자  <-> 문자 숫자 아닌거|\n",
    "\n",
    "\n",
    "\n",
    "### 3.2 대표 패턴 예제\n",
    "\n",
    "| 목적         | 패턴                         | 예시              |\n",
    "| ---------- | -------------------------- | --------------- |\n",
    "| 날짜         | `\\d{4}-\\d{2}-\\d{2}`        | `2025-06-19`    |\n",
    "| 이메일        | `[\\w\\.-]+@[\\w\\.-]+\\.\\w+`   | 이메일 추출          |\n",
    "| 전화번호       | `01[016789]-\\d{3,4}-\\d{4}` | `010-1234-5678` |\n",
    "| URL        | `https?://[^\\s<>\"]+`       | http/https URL  |\n",
    "| HTML 태그 제거 | `<.*?>`                    | 비탐욕적 방식         |\n",
    "| 숫자         | `\\d+`                      | 모든 숫자 추출        |\n",
    "\n",
    "### 3.3 코드 예시\n",
    "\n",
    "```python\n",
    "import re\n",
    "\n",
    "html = \"<p>전화: 010-1234-5678</p><a href='https://example.com'>링크</a>\"\n",
    "text = re.sub(r\"<.*?>\", \"\", html)\n",
    "phones = re.findall(r\"\\b01[016789]-\\d{3,4}-\\d{4}\\b\", text)\n",
    "urls = re.findall(r\"https?://[^\\s<>']+\", html)\n",
    "```\n",
    "\n",
    "\n",
    "## 4. 크롤링에서의 정규표현식 활용\n",
    "\n",
    "```python\n",
    "from bs4 import BeautifulSoup\n",
    "import re\n",
    "\n",
    "html = get_html_from_site()\n",
    "soup = BeautifulSoup(html, \"html.parser\")\n",
    "body = soup.get_text()\n",
    "\n",
    "emails = re.findall(r\"[\\w\\.-]+@[\\w\\.-]+\\.\\w+\", body)\n",
    "links = re.findall(r'href=\"(https?://[^\"]+)\"', html)\n",
    "```\n",
    "\n",
    "**크롤링 정제 프로세스:**\n",
    "\n",
    "1. 태그 제거 → 2. 패턴 추출 → 3. 유효성 검사 → 4. 저장\n",
    "\n",
    "\n",
    "## 5. Excel(openpyxl)에서 정규표현으로 데이터 필터링 🔍\n",
    "\n",
    "### 5.1 핵심 개념\n",
    "\n",
    "* `openpyxl`로 Excel 파일을 열고, 셀 단위로 순회하며 데이터를 읽음\n",
    "* `re`를 이용해 특정 패턴과 매칭되는 값만 추출하거나 정리\n",
    "* 전처리된 데이터를 **새 시트**나 **파일**로 저장 가능\n",
    "\n",
    "### 5.2 예제 코드: 이메일 & 전화번호 정제\n",
    "\n",
    "```python\n",
    "import re\n",
    "from openpyxl import load_workbook, Workbook\n",
    "\n",
    "wb = load_workbook(\"data.xlsx\")\n",
    "ws = wb.active\n",
    "\n",
    "email_re = re.compile(r\".*?([\\w\\._%+-]+@[\\w\\.-]+\\.\\w+).*?\")\n",
    "phone_re = re.compile(r\".*?(01[016789]-\\d{3,4}-\\d{4}).*?\")\n",
    "\n",
    "wb_out = Workbook()\n",
    "ws_out = wb_out.active\n",
    "ws_out.append([\"Email\", \"Phone\"])\n",
    "\n",
    "for row in ws.iter_rows(min_row=2):\n",
    "    email_val = row[2].value  # Email 컬럼 위치 가정\n",
    "    phone_val = row[3].value  # Phone 컬럼 위치 가정\n",
    "\n",
    "    email_match = email_re.match(str(email_val or \"\"))\n",
    "    phone_match = phone_re.match(str(phone_val or \"\"))\n",
    "\n",
    "    if email_match or phone_match:\n",
    "        ws_out.append([\n",
    "            email_match.group(1) if email_match else \"\",\n",
    "            phone_match.group(1) if phone_match else \"\"\n",
    "        ])\n",
    "\n",
    "wb_out.save(\"filtered_openpyxl.xlsx\")\n",
    "```\n",
    "\n",
    "### 5.3 대용량 Excel 파일의 패턴 추출\n",
    "\n",
    "```python\n",
    "from openpyxl import load_workbook\n",
    "import re, os\n",
    "\n",
    "pattern = re.compile(r\"\\d{9}\")  # 9자리 숫자\n",
    "numbers = set()\n",
    "\n",
    "for fname in os.listdir(\"xls_files\"):\n",
    "    wb = load_workbook(os.path.join(\"xls_files\", fname), data_only=True)\n",
    "    for ws in wb.worksheets:\n",
    "        for row in ws.iter_rows(values_only=True):\n",
    "            for cell in row:\n",
    "                if cell:\n",
    "                    for m in pattern.finditer(str(cell)):\n",
    "                        numbers.add(m.group())\n",
    "wb.close()\n",
    "\n",
    "print(numbers)\n",
    "```\n",
    "\n",
    "\n",
    "\n",
    "## 6. 요약 정리\n",
    "\n",
    "* `re` 모듈: **검색, 추출, 치환, 분리** 기능 제공\n",
    "* 패턴 설계: 메타문자, 반복자, 경계 표현 조합\n",
    "* 크롤링 → 정제 → 추출 → **openpyxl 기반 Excel 저장** 흐름\n",
    "* `openpyxl`을 쓰면 **코드 한 줄로 원하는 데이터만 Excel 파일로 필터링 가능**\n",
    "\n",
    "---\n",
    "\n",
    "## ✅ 추천 자료\n",
    "\n",
    "* `re` 모듈 공식 문서\n",
    "* openpyxl 공식 튜토리얼 – Excel 작업 자동화\n",
    "* Medium \"Extracting String Patterns…\" \n",
    "\n",
    "\n"
   ]
  },
  {
   "cell_type": "markdown",
   "id": "b060040e-bb1f-44b4-be1a-ac55cd911725",
   "metadata": {},
   "source": [
    "---"
   ]
  },
  {
   "cell_type": "code",
   "execution_count": 1,
   "id": "6bd9499d-7c79-4cdf-bfbf-d8a4949f152e",
   "metadata": {},
   "outputs": [],
   "source": [
    "import re"
   ]
  },
  {
   "cell_type": "code",
   "execution_count": 39,
   "id": "c24bf09a-7065-481e-8266-96a5efc4e90c",
   "metadata": {},
   "outputs": [],
   "source": [
    "pattern = re.compile('A.B') # . => 한자리는 아무거나 ..=> 두 자리 아무거나\n",
    "# 실제 특수문자 .이 들어가는 경우 re.compile('A\\.B')표기"
   ]
  },
  {
   "cell_type": "code",
   "execution_count": 41,
   "id": "d300929e-1679-415f-8829-09d8b93cbd0a",
   "metadata": {},
   "outputs": [
    {
     "data": {
      "text/plain": [
       "<re.Match object; span=(0, 3), match='ACB'>"
      ]
     },
     "execution_count": 41,
     "metadata": {},
     "output_type": "execute_result"
    }
   ],
   "source": [
    "pattern.search('ACB')"
   ]
  },
  {
   "cell_type": "code",
   "execution_count": 43,
   "id": "1e10d7b0-8a89-4960-be1d-b14bd6bd744b",
   "metadata": {},
   "outputs": [],
   "source": [
    "pattern.search('A00B') # 일치하지 않으면 아무것도 리턴하지 않음"
   ]
  },
  {
   "cell_type": "code",
   "execution_count": 45,
   "id": "50792223-d79a-4838-af67-9eef8d4a0850",
   "metadata": {},
   "outputs": [
    {
     "data": {
      "text/plain": [
       "<re.Match object; span=(0, 3), match='A1B'>"
      ]
     },
     "execution_count": 45,
     "metadata": {},
     "output_type": "execute_result"
    }
   ],
   "source": [
    "pattern.search('A1B')"
   ]
  },
  {
   "cell_type": "code",
   "execution_count": 49,
   "id": "02e6a6df-d5a8-4576-b512-a3345690a50c",
   "metadata": {},
   "outputs": [
    {
     "data": {
      "text/plain": [
       "<re.Match object; span=(8, 11), match='A0B'>"
      ]
     },
     "execution_count": 49,
     "metadata": {},
     "output_type": "execute_result"
    }
   ],
   "source": [
    "pattern.search('123 D0a A0B 01111') \n",
    "# 결과의 span=(8,11) 8번 index~ 11번 index까지 일치한다는 의미\n",
    "# match='A0B'는 match 되는 부분을 표시"
   ]
  },
  {
   "cell_type": "code",
   "execution_count": 65,
   "id": "f8f3515d-bcba-4bb9-922b-880c4f47ddb5",
   "metadata": {},
   "outputs": [
    {
     "data": {
      "text/plain": [
       "\"Hello I'm Eli.\""
      ]
     },
     "execution_count": 65,
     "metadata": {},
     "output_type": "execute_result"
    }
   ],
   "source": [
    "hello = \"Hello I'm A-B.\"\n",
    "re.sub('A.B', 'Eli', hello) # re.sub(pattern, 바꿀 데이터, 원본 )"
   ]
  },
  {
   "cell_type": "markdown",
   "id": "2945d78e-b3b9-4973-bc8e-329af9fe9f83",
   "metadata": {},
   "source": [
    "### 🔖 참고(인용)\n",
    "> * [인프런: 파이썬으로 크롤링 시작하기 - 기본편](https://www.inflearn.com/course/python-crawling-basic) \n",
    "> * [Python 공식 문서 - re 모듈](https://docs.python.org/3/library/re.html)\n",
    "> * [Python HOWTO: Regular Expression HOWTO](https://docs.python.org/3/howto/regex.html)\n",
    "> * [openpyxl 공식 문서](https://openpyxl.readthedocs.io/en/stable/)\n",
    "> * [Extracting String Patterns from Excel using Python and Regular Expressions - Medium](https://medium.com/@moataz.elmasry/extracting-string-patterns-from-excel-using-python-and-regular-expressions-b290a99f56a3)\n"
   ]
  },
  {
   "cell_type": "code",
   "execution_count": null,
   "id": "af472c45-23c5-45a9-bb30-7662893f9bed",
   "metadata": {},
   "outputs": [],
   "source": []
  }
 ],
 "metadata": {
  "kernelspec": {
   "display_name": "Python [conda env:base] *",
   "language": "python",
   "name": "conda-base-py"
  },
  "language_info": {
   "codemirror_mode": {
    "name": "ipython",
    "version": 3
   },
   "file_extension": ".py",
   "mimetype": "text/x-python",
   "name": "python",
   "nbconvert_exporter": "python",
   "pygments_lexer": "ipython3",
   "version": "3.12.7"
  }
 },
 "nbformat": 4,
 "nbformat_minor": 5
}
