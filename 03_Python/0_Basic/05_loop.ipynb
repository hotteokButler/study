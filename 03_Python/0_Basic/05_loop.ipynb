{
 "cells": [
  {
   "cell_type": "markdown",
   "id": "4d0155e1-99be-49d8-9453-2c81c55658cd",
   "metadata": {},
   "source": [
    "\n",
    "# 🌀 Python 반복문 종류 정리\n",
    "\n",
    "## 1. for문 (for loop)\n",
    "\n",
    "> 주어진 범위 또는 시퀀스를 순회할 때 사용  \n",
    "> 주로 `range()`, 리스트, 문자열, 딕셔너리 등 반복 가능한(iterable) 객체와 함께 사용\n",
    "\n",
    "### 1-1. 기본 for문\n",
    "```python\n",
    "for i in range(3):\n",
    "    print(i)  # 출력: 0 1 2\n",
    "```\n",
    "\n",
    "### 1-2. 리스트 순회\n",
    "```python\n",
    "fruits = ['apple', 'banana', 'cherry']\n",
    "for fruit in fruits:\n",
    "    print(fruit)\n",
    "```\n",
    "\n",
    "### 1-3. 문자열 순회\n",
    "```python\n",
    "for char in \"Hi\":\n",
    "    print(char)\n",
    "```\n",
    "\n",
    "### 1-4. enumerate() 사용 (인덱스 + 값)\n",
    "```python\n",
    "for i, fruit in enumerate(['apple', 'banana']):\n",
    "    print(i, fruit)  # 출력: 0 apple / 1 banana\n",
    "```\n",
    "\n",
    "### 1-5. zip() 사용 (두 리스트 병렬 순회)\n",
    "```python\n",
    "names = ['Tom', 'Jerry']\n",
    "ages = [5, 3]\n",
    "for name, age in zip(names, ages):\n",
    "    print(name, age)\n",
    "```\n",
    "\n",
    "\n",
    "## 2. while문 (while loop)\n",
    "\n",
    "> 조건이 참(True)인 동안 계속 반복 수행\n",
    "\n",
    "### 2-1. 기본 while문\n",
    "```python\n",
    "i = 0\n",
    "while i < 3:\n",
    "    print(i)\n",
    "    i += 1\n",
    "```\n",
    "\n",
    "### 2-2. 무한 루프 (조건 없이 반복 → 반드시 break 필요)\n",
    "```python\n",
    "while True:\n",
    "    print(\"무한 반복\")\n",
    "    break  # 없으면 종료되지 않음\n",
    "```\n",
    "\n",
    "### 2-3. 조건 제어 + 사용자 입력\n",
    "```python\n",
    "answer = ''\n",
    "while answer != 'yes':\n",
    "    answer = input(\"continue? (yes to quit): \")\n",
    "```\n",
    "\n",
    "\n",
    "## 🔁 공통 키워드 (for문/while문에서 모두 사용 가능)\n",
    "\n",
    "| 키워드 | 설명 |\n",
    "|--------|------|\n",
    "| `break` | 반복문 강제 종료 |\n",
    "| `continue` | 이후 코드 건너뛰고 다음 반복으로 이동 |\n",
    "| `else` | 반복문이 **정상 종료**(break 없이 종료)될 때 실행 |\n",
    "\n",
    "### 예시 - break, continue, else\n",
    "```python\n",
    "for i in range(5):\n",
    "    if i == 2:\n",
    "        continue\n",
    "    if i == 4:\n",
    "        break\n",
    "    print(i)\n",
    "else:\n",
    "    print(\"정상 종료\")  # break 없으면 실행됨\n",
    "```\n"
   ]
  },
  {
   "cell_type": "markdown",
   "id": "e254adef-af35-40cb-b19d-3521f3771d8c",
   "metadata": {},
   "source": [
    "---\n",
    "---\n",
    "\n",
    "## 🔍 Python vs JavaScript 반복문 비교 요약\n",
    "\n",
    "| 언어 | 문법 종류 | 주요 용도 |\n",
    "|------|------------|------------|\n",
    "| **Python** | `for ... in` | iterable 순회 (리스트, 튜플, 딕셔너리, 문자열 등) |\n",
    "| **JavaScript** | `for`, `for...in`, `for...of`, `forEach` | 범위, 객체 key, iterable 값 등 다양한 용도 |\n",
    "\n",
    "\n",
    "## ✅ Python의 for문은 왜 `for ... in` 하나만 있을까?\n",
    "\n",
    "Python은 다음 철학에 따라 반복문 구조를 단순화했습니다.\n",
    "\n",
    "> **\"반복 가능한 객체(iterable)는 `in` 하나로 다 순회할 수 있다.\"**\n",
    "\n",
    "- `for i in range(5)` → 숫자 범위 순회\n",
    "- `for item in list` → 리스트 항목 순회\n",
    "- `for k, v in dict.items()` → 딕셔너리 key-value 순회\n",
    "- `for c in 'hello'` → 문자열 문자 순회\n",
    "\n",
    "\n",
    "## 🔄 JavaScript와 비교한 예시\n",
    "\n",
    "| 목적 | JavaScript | Python |\n",
    "|------|------------|--------|\n",
    "| 숫자 0~4 반복 | `for (let i = 0; i < 5; i++)` | `for i in range(5)` |\n",
    "| 배열 값 순회 | `for (const val of arr)` | `for val in arr` |\n",
    "| 배열 index 순회 | `for (const idx in arr)` | `for i in range(len(arr))` |\n",
    "| 객체 key 순회 | `for (const key in obj)` | `for key in dict` |\n",
    "| 객체 key, value 순회 | `Object.entries(obj)` | `for k, v in dict.items()` |\n",
    "\n",
    "\n",
    "## ✅ 결론\n",
    "\n",
    "> Python의 `for ... in`은 **단 하나뿐이지만**, 다양한 iterable 타입과 내장 함수 (`range()`, `enumerate()`, `zip()`, `dict.items()` 등)를 활용해서 JavaScript의 다양한 반복문 기능을 모두 커버할 수 있습니다.\n",
    "\n"
   ]
  },
  {
   "cell_type": "code",
   "execution_count": 6,
   "id": "8bb592e6-746a-41c2-be87-da18578a12ce",
   "metadata": {},
   "outputs": [
    {
     "name": "stdout",
     "output_type": "stream",
     "text": [
      "0\n",
      "1\n",
      "2\n"
     ]
    }
   ],
   "source": [
    "for i in range(3):\n",
    "    print(i)"
   ]
  },
  {
   "cell_type": "code",
   "execution_count": 27,
   "id": "30444a31-8855-43e6-8c58-ef4e76f80cd6",
   "metadata": {},
   "outputs": [
    {
     "name": "stdout",
     "output_type": "stream",
     "text": [
      "-> a입니다.\n",
      "-> b입니다.\n",
      "-> c입니다.\n",
      "-> d입니다.\n",
      "출력이 끝났습니다.\n"
     ]
    }
   ],
   "source": [
    "for i in [\"a\",\"b\",\"c\",\"d\"] : \n",
    "    print('-> {}입니다.'.format(i))\n",
    "else : \n",
    "    print('출력이 끝났습니다.')"
   ]
  },
  {
   "cell_type": "code",
   "execution_count": 25,
   "id": "795110d9-d4d8-479d-a236-9fb94a2fe878",
   "metadata": {},
   "outputs": [
    {
     "name": "stdin",
     "output_type": "stream",
     "text": [
      "continue? (yes to quit):  no\n",
      "continue? (yes to quit):  no\n",
      "continue? (yes to quit):  yes\n"
     ]
    }
   ],
   "source": [
    "answer = ''\n",
    "while answer != 'yes':\n",
    "    answer = input(\"continue? (yes to quit): \")\n",
    "    "
   ]
  },
  {
   "cell_type": "code",
   "execution_count": null,
   "id": "005a5ab1-9fe2-4030-b336-1d98d125ea5e",
   "metadata": {},
   "outputs": [],
   "source": []
  },
  {
   "cell_type": "markdown",
   "id": "c53cd752-7500-4baa-8f7b-1a9f2bf9e2fc",
   "metadata": {},
   "source": [
    "### **참고**\n",
    "> [인프런: 파이썬으로 크롤링 시작하기 - 기본편](https://www.inflearn.com/course/python-crawling-basic)\n",
    "\n"
   ]
  }
 ],
 "metadata": {
  "kernelspec": {
   "display_name": "Python [conda env:base] *",
   "language": "python",
   "name": "conda-base-py"
  },
  "language_info": {
   "codemirror_mode": {
    "name": "ipython",
    "version": 3
   },
   "file_extension": ".py",
   "mimetype": "text/x-python",
   "name": "python",
   "nbconvert_exporter": "python",
   "pygments_lexer": "ipython3",
   "version": "3.12.7"
  }
 },
 "nbformat": 4,
 "nbformat_minor": 5
}
