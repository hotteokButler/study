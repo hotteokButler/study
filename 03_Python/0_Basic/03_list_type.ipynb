{
 "cells": [
  {
   "cell_type": "markdown",
   "id": "0d438701-e184-4fe9-89b7-e269d436cbcd",
   "metadata": {},
   "source": [
    "# 📌 Python `list` 자료형 정리\n",
    "\n",
    "## 1. 데이터 구조 `list` type\n",
    "\n",
    "### 🔹 정의\n",
    "- `list`는 **여러 값을 하나의 변수에 저장**할 수 있는 자료형입니다.\n",
    "- **순서가 있는(ordered)** 구조이며, 각 요소는 **인덱스(0부터 시작)** 로 접근합니다.\n",
    "\n",
    "### 🔹 특성\n",
    "- 순서가 있다\n",
    "- 변경 가능 (mutable)\n",
    "- 중복된 값 허용\n",
    "- 다양한 데이터 타입 저장 가능\n",
    "\n",
    "### 🔹 선언 방법\n",
    "\n",
    "```python\n",
    "# 빈 리스트\n",
    "my_list = []\n",
    "# E\n",
    "\n",
    "# 숫자 리스트\n",
    "numbers = [1, 2, 3, 4, 5]\n",
    "\n",
    "# 문자열 리스트\n",
    "fruits = [\"apple\", \"banana\", \"cherry\"]\n",
    "\n",
    "# 혼합 리스트\n",
    "mixed = [1, \"hello\", True, [2, 3]]\n",
    "\n",
    "```\n",
    "\n",
    "### 🔹 빈 리스트 선언 관련\n",
    "\n",
    "#### ✅ 기본적인 차이\n",
    "\n",
    "| 구문 | 설명 |\n",
    "|------|------|\n",
    "| `my_list = []` | **리터럴 방식**으로 빈 리스트 생성 |\n",
    "| `my_list = list()` | **내장 함수** `list()`를 사용하여 빈 리스트 생성 |\n",
    "\n",
    "둘 다 **동일하게 빈 리스트를 생성**하며, 일반적인 상황에서는 **동일하게 작동**합니다.\n",
    "\n",
    "```python\n",
    "a = []\n",
    "b = list()\n",
    "print(a == b)  # True\n",
    "```\n",
    "\n",
    "#### ✅ 성능 차이 (미세)\n",
    "\n",
    "- `[]` 방식이 **조금 더 빠릅니다** (파이썬 내부적으로 최적화되어 있음).\n",
    "- 하지만 성능 차이는 매우 미미해서 일반적인 코드에서는 **무시해도 됨**.\n",
    "\n",
    "#### 📘 공식 스타일 가이드에서 `list()`를 권장하는 이유\n",
    "\n",
    "-  1. **일관성과 명확성**\n",
    "\n",
    "    - `list()`는 **타입이 무엇인지 명확히 드러남**  \n",
    "      → 특히 다른 컨테이너 타입들(`dict()`, `set()`, `tuple()`)과 **일관된 형태**.\n",
    "    - 이처럼 `list()`는 초보자에게도 “이건 리스트야”라는 걸 **더 명확히 보여줌**\n",
    "```python\n",
    "# 일관된 빈 컨테이너 생성 방식\n",
    "my_list = list()\n",
    "my_dict = dict()\n",
    "my_set = set()\n",
    "my_tuple = tuple()\n",
    "\n",
    "```\n",
    "\n",
    "\n",
    "\n",
    "-  컨벤션 차원에서의 권장 사항\n",
    "    - [Google Python Style Guide]는 `list()`, `dict()`, `set()` 사용을 선호합니다.\n",
    "    - 이는 가독성과 **타입 명시성**을 중시하는 대규모 협업 환경에서 더 유리할 수 있어요.\n",
    "\n",
    "- 파이썬 인터프리터에서 일관된 방식\n",
    "    - `list()`는 생성자이므로 `list(some_iterable)`처럼 **다형성(다른 자료형 → 리스트)**에도 사용됩니다.\n",
    "    - 빈 리스트일 경우에도 같은 방식을 유지함으로써 **코딩 스타일을 통일**할 수 있습니다.\n",
    "\n",
    "-  ⚠️ 하지만 실제로는...\n",
    "    - 많은 파이썬 커뮤니티나 개발자들은 **빈 리스트에는 `[]` 사용**을 여전히 선호합니다.\n",
    "      - 더 간결하고,\n",
    "      - 더 빠르며,\n",
    "      - 익숙하기 때문입니다.\n",
    "\n",
    "        \n",
    "-  ✅ 결론\n",
    "\n",
    "| 항목 | `[]` | `list()` |\n",
    "|------|------|----------|\n",
    "| 간결함 | ✅ | ❌ |\n",
    "| 성능 | ✅ 약간 빠름 | ❌ |\n",
    "| 타입 명시성 | ❌ | ✅ |\n",
    "| 일관성 (`dict()`, `set()` 등과) | ❌ | ✅ |\n",
    "| 협업 코드 스타일 | ❌ 일반적 | ✅ 공식 문서/대형 프로젝트에선 선호 |\n",
    "\n",
    "> 🔹 **개인 코드나 간단한 스크립트**: `[]` 선호  \n",
    "> 🔹 **공식 스타일, 팀 프로젝트, 교육 자료**: `list()` 선호 가능성 높음\n",
    "\n",
    "<br>\n",
    "<br>\n",
    "<br>\n",
    "\n",
    "\n",
    "## 2. list 관련 메서드\n",
    "\n",
    "### 2-1. 추가, 삽입, 수정, 삭제 관련 메서드\n",
    "\n",
    "| 기능 | 메서드 / 문법 | 설명 |\n",
    "|------|----------------|------|\n",
    "| 추가 | `append(x)` | 리스트 끝에 요소 추가 |\n",
    "| 추가 | `extend(iterable)` | 다른 리스트나 반복 가능한 객체를 덧붙임 |\n",
    "| 삽입 | `insert(i, x)` | 지정 위치 `i`에 요소 `x` 삽입 |\n",
    "| 수정 | `list[i] = x` | `i`번째 요소를 `x`로 변경 |\n",
    "| 삭제 | `remove(x)` | 첫 번째로 나오는 `x` 제거 |\n",
    "| 삭제 | `pop()` | 마지막 요소 제거 후 반환 |\n",
    "| 삭제 | `del list[i]` | `i`번째 인덱스 요소 삭제 |\n",
    "| 조회 | `count(x)` | `x`의 개수 반환 |\n",
    "\n",
    "```python\n",
    "fruits = [\"apple\", \"banana\"]\n",
    "\n",
    "# 추가\n",
    "fruits.append(\"orange\")         # [\"apple\", \"banana\", \"orange\"]\n",
    "fruits.extend([\"grape\", \"melon\"])  # [\"apple\", \"banana\", \"orange\", \"grape\", \"melon\"]\n",
    "\n",
    "# 삽입\n",
    "fruits.insert(1, \"kiwi\")        # [\"apple\", \"kiwi\", \"banana\", \"orange\", \"grape\", \"melon\"]\n",
    "\n",
    "# 수정\n",
    "fruits[2] = \"mango\"             # [\"apple\", \"kiwi\", \"mango\", \"orange\", \"grape\", \"melon\"]\n",
    "\n",
    "# 삭제\n",
    "fruits.remove(\"orange\")        # [\"apple\", \"kiwi\", \"mango\", \"grape\", \"melon\"]\n",
    "last = fruits.pop()            # \"melon\" (제거됨)\n",
    "del fruits[0]                  # [\"kiwi\", \"mango\", \"grape\"]\n",
    "\n",
    "# 조회\n",
    "[1, 2, 2, 3].count(2)           # 2\n",
    "```\n",
    "<br>\n",
    "\n",
    "### 2-2. 정렬 관련 메서드\n",
    "\n",
    "| 메서드 | 설명 |\n",
    "|--------|------|\n",
    "| `sort()` | 리스트를 정렬 (기본: 오름차순) |\n",
    "| `sort(reverse=True)` | 내림차순 정렬 |\n",
    "| `sorted(list)` | 정렬된 새 리스트 반환 (원본 유지) |\n",
    "| `reverse()` | 리스트 순서 뒤집기 |\n",
    "\n",
    "```python\n",
    "nums = [3, 1, 4, 2]\n",
    "nums.sort()              # [1, 2, 3, 4]\n",
    "nums.sort(reverse=True)  # [4, 3, 2, 1]\n",
    "sorted(nums)             # [1, 2, 3, 4]\n",
    "nums.reverse()           # [2, 4, 1, 3] → [3, 1, 4, 2]\n",
    "```\n",
    "\n",
    "<br>\n",
    "\n",
    "### 2-3. 인덱싱 관련 메서드 및 기능\n",
    "\n",
    "| 기능 / 메서드 | 설명 |\n",
    "|---------------|------|\n",
    "| `list[i]` | `i`번째 요소 접근 |\n",
    "| `list[-1]` | 마지막 요소 접근 |\n",
    "| `list[start:end]` | 슬라이싱: start부터 end-1까지 |\n",
    "| `index(x)` | `x`가 처음 등장하는 위치 반환 |\n",
    "\n",
    "```python\n",
    "fruits = [\"apple\", \"banana\", \"cherry\"]\n",
    "fruits[0]        # \"apple\"\n",
    "fruits[-1]       # \"cherry\"\n",
    "fruits[1:3]      # [\"banana\", \"cherry\"]\n",
    "fruits.index(\"banana\")  # 1\n",
    "```"
   ]
  },
  {
   "cell_type": "markdown",
   "id": "ea786aa3-6b35-4c2c-8a88-5626c0cf4c5c",
   "metadata": {},
   "source": [
    "---\n",
    "#### [연습]"
   ]
  },
  {
   "cell_type": "code",
   "execution_count": 3,
   "id": "6a126a28-d033-4898-b958-7d8d4cdfd226",
   "metadata": {},
   "outputs": [
    {
     "name": "stdout",
     "output_type": "stream",
     "text": [
      "['서울시', '경기도', '인천시']\n"
     ]
    }
   ],
   "source": [
    "location = ['서울시', '경기도','인천시']\n",
    "print(location)"
   ]
  },
  {
   "cell_type": "code",
   "execution_count": 25,
   "id": "e87f4950-8f76-40c0-b9a4-3ec97a449df8",
   "metadata": {},
   "outputs": [
    {
     "name": "stdout",
     "output_type": "stream",
     "text": [
      "['서울시', '경기도', '인천시', '부산시']\n"
     ]
    }
   ],
   "source": [
    "location.append('부산시')\n",
    "print(location)"
   ]
  },
  {
   "cell_type": "code",
   "execution_count": 27,
   "id": "9a6210c6-2bfc-4a08-9d3a-76609a22a61f",
   "metadata": {},
   "outputs": [
    {
     "name": "stdout",
     "output_type": "stream",
     "text": [
      "['서울시', '경기도', '인천시', '부산시', '대전시']\n"
     ]
    }
   ],
   "source": [
    "location.append('대전시')\n",
    "print(location)"
   ]
  },
  {
   "cell_type": "code",
   "execution_count": 29,
   "id": "e7eb981f-88ef-401d-b537-f8536ba6fac4",
   "metadata": {},
   "outputs": [
    {
     "data": {
      "text/plain": [
       "['경기도', '인천시']"
      ]
     },
     "execution_count": 29,
     "metadata": {},
     "output_type": "execute_result"
    }
   ],
   "source": [
    "location[1:3]"
   ]
  },
  {
   "cell_type": "code",
   "execution_count": 31,
   "id": "f10e6fe2-13f3-42ea-9b97-82a07cc4e182",
   "metadata": {},
   "outputs": [],
   "source": [
    "del location[0]"
   ]
  },
  {
   "cell_type": "code",
   "execution_count": 33,
   "id": "5493687e-850d-4692-98eb-011cea42beac",
   "metadata": {},
   "outputs": [
    {
     "name": "stdout",
     "output_type": "stream",
     "text": [
      "['경기도', '인천시', '부산시', '대전시']\n"
     ]
    }
   ],
   "source": [
    "print(location)"
   ]
  },
  {
   "cell_type": "code",
   "execution_count": 46,
   "id": "c006794b-60f6-4716-81c2-1c4371d26a39",
   "metadata": {},
   "outputs": [
    {
     "data": {
      "text/plain": [
       "['java', 'c', 'c++', 'golang']"
      ]
     },
     "execution_count": 46,
     "metadata": {},
     "output_type": "execute_result"
    }
   ],
   "source": [
    "lang = ['java','c','c++']\n",
    "lang.append('golang')\n",
    "lang"
   ]
  },
  {
   "cell_type": "code",
   "execution_count": 48,
   "id": "42787e72-2638-451d-aad8-dc2295f32800",
   "metadata": {},
   "outputs": [
    {
     "data": {
      "text/plain": [
       "['c', 'java', 'c++']"
      ]
     },
     "execution_count": 48,
     "metadata": {},
     "output_type": "execute_result"
    }
   ],
   "source": [
    "del lang[-1]\n",
    "del lang[1]\n",
    "lang.insert(0,'c')\n",
    "lang\n"
   ]
  },
  {
   "cell_type": "markdown",
   "id": "fac29f78-d5c2-4157-b45d-9545ac6a072f",
   "metadata": {},
   "source": [
    "### 🔖 참고(인용)\n",
    "> [인프런: 파이썬으로 크롤링 시작하기 - 기본편](https://www.inflearn.com/course/python-crawling-basic)"
   ]
  }
 ],
 "metadata": {
  "kernelspec": {
   "display_name": "Python [conda env:base] *",
   "language": "python",
   "name": "conda-base-py"
  },
  "language_info": {
   "codemirror_mode": {
    "name": "ipython",
    "version": 3
   },
   "file_extension": ".py",
   "mimetype": "text/x-python",
   "name": "python",
   "nbconvert_exporter": "python",
   "pygments_lexer": "ipython3",
   "version": "3.12.7"
  }
 },
 "nbformat": 4,
 "nbformat_minor": 5
}
