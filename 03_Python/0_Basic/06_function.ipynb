{
 "cells": [
  {
   "cell_type": "markdown",
   "id": "cd36ec15-e9ee-458d-b8e8-12210c67746e",
   "metadata": {},
   "source": [
    "# 🐍 Python 함수(Function) 정리\n",
    "\n",
    "## 1. 함수란?\n",
    "- **특정 작업을 수행하는 코드 블록**입니다.\n",
    "- 반복되는 코드를 재사용하거나 구조화할 때 사용합니다.\n",
    "- 필요할 때 호출하여 사용할 수 있습니다.\n",
    "\n",
    "\n",
    "## 2. 함수 정의 문법\n",
    "\n",
    "```python\n",
    "def 함수이름(매개변수1, 매개변수2, ...):\n",
    "    실행할 코드\n",
    "    return 반환값\n",
    "```\n",
    "\n",
    "- `def`: 함수 정의 키워드\n",
    "- `함수이름`: 소문자+언더스코어를 사용하는 snake_case 관례\n",
    "- `매개변수`: 함수가 입력으로 받을 값들 - ( input, 인자(agument,parameter)라고도 부름 )\n",
    "- `return`: 결과값 반환 (필수는 아님)\n",
    "\n",
    "## 3. 함수 정의 및 호출 예제\n",
    "\n",
    "### ✅ 예제 1: 인자가 없는 함수\n",
    "\n",
    "```python\n",
    "def say_hello():\n",
    "    print(\"Hello, world!\")\n",
    "\n",
    "say_hello()  # 출력: Hello, world!\n",
    "```\n",
    "\n",
    "### ✅ 예제 2: 인자가 있는 함수\n",
    "\n",
    "```python\n",
    "def greet(name):\n",
    "    print(f\"Hello, {name}!\")\n",
    "\n",
    "greet(\"Alice\")  # 출력: Hello, Alice!\n",
    "```\n",
    "\n",
    "\n",
    "### ✅ 예제 3: 반환값이 있는 함수\n",
    "\n",
    "```python\n",
    "def add(a, b):\n",
    "    return a + b\n",
    "\n",
    "result = add(3, 5)\n",
    "print(result)  # 출력: 8\n",
    "```\n",
    "\n",
    "\n",
    "### ✅ 예제 4: 기본값 매개변수 (default parameter)\n",
    "\n",
    "```python\n",
    "def greet(name=\"Guest\"):\n",
    "    print(f\"Hello, {name}!\")\n",
    "\n",
    "greet()           # 출력: Hello, Guest!\n",
    "greet(\"Bob\")      # 출력: Hello, Bob!\n",
    "```\n",
    "\n",
    "\n",
    "### ✅ 예제 5: 키워드 인자 사용\n",
    "\n",
    "```python\n",
    "def introduce(name, age):\n",
    "    print(f\"My name is {name}, and I'm {age} years old.\")\n",
    "\n",
    "introduce(age=25, name=\"Jane\")\n",
    "# 출력: My name is Jane, and I'm 25 years old.\n",
    "```\n",
    "\n",
    "---\n",
    "\n",
    "### ✅ 예제 6: 가변 인자 함수 (*args, **kwargs)\n",
    "\n",
    "```python\n",
    "def show_args(*args):\n",
    "    for arg in args:\n",
    "        print(arg)\n",
    "\n",
    "show_args(\"apple\", \"banana\", \"cherry\")\n",
    "# 출력: apple / banana / cherry\n",
    "\n",
    "def show_kwargs(**kwargs):\n",
    "    for key, value in kwargs.items():\n",
    "        print(f\"{key} = {value}\")\n",
    "\n",
    "show_kwargs(name=\"Tom\", age=30)\n",
    "# 출력: name = Tom / age = 30\n",
    "```\n",
    "\n",
    "---\n",
    "\n",
    "# 🧩 가변 인자 함수 정리\n",
    "\n",
    "## 1. `*args` (가변 위치 인자)\n",
    "- 위치 기반 인자 여러 개를 **튜플(tuple)**로 받아옵니다.\n",
    "\n",
    "### 📌 문법\n",
    "```python\n",
    "def 함수이름(*args):\n",
    "    # args는 튜플처럼 사용 가능\n",
    "```\n",
    "\n",
    "### ✅ 예제\n",
    "```python\n",
    "def sum_all(*args):\n",
    "    total = 0\n",
    "    for num in args:\n",
    "        total += num\n",
    "    return total\n",
    "\n",
    "print(sum_all(1, 2, 3))       # 출력: 6\n",
    "print(sum_all(5, 10, 15, 20)) # 출력: 50\n",
    "```\n",
    "\n",
    "- `args`는 튜플이므로 반복문을 통해 값을 하나씩 처리할 수 있습니다.\n",
    "\n",
    "\n",
    "## 2. `**kwargs` (가변 키워드 인자)\n",
    "- 키워드 기반 인자들을 **딕셔너리(dict)** 형태로 받아옵니다.\n",
    "\n",
    "### 📌 문법\n",
    "```python\n",
    "def 함수이름(**kwargs):\n",
    "    # kwargs는 딕셔너리처럼 사용 가능\n",
    "```\n",
    "\n",
    "### ✅ 예제\n",
    "```python\n",
    "def introduce(**kwargs):\n",
    "    for key, value in kwargs.items():\n",
    "        print(f\"{key} : {value}\")\n",
    "\n",
    "introduce(name=\"Alice\", age=25, job=\"developer\")\n",
    "# 출력:\n",
    "# name : Alice\n",
    "# age : 25\n",
    "# job : developer\n",
    "```\n",
    "\n",
    "- `kwargs`는 key-value 쌍의 딕셔너리로 처리됩니다.\n",
    "\n",
    "\n",
    "## 3. `*args`와 `**kwargs` 함께 사용하기\n",
    "\n",
    "```python\n",
    "def show_all(title, *args, **kwargs):\n",
    "    print(f\"[{title}]\")\n",
    "    print(\"Args:\", args)\n",
    "    print(\"Kwargs:\", kwargs)\n",
    "\n",
    "show_all(\"Info\", 1, 2, 3, name=\"Tom\", age=30)\n",
    "# 출력:\n",
    "# [Info]\n",
    "# Args: (1, 2, 3)\n",
    "# Kwargs: {'name': 'Tom', 'age': 30}\n",
    "```\n",
    "\n",
    "### 🔸 순서 규칙\n",
    "함수 매개변수 정의 순서는 다음과 같이 해야 오류가 없습니다:\n",
    "\n",
    "```\n",
    "def func(고정인자, *args, 기본값인자=값, **kwargs):\n",
    "```\n",
    "\n",
    "\n"
   ]
  },
  {
   "cell_type": "markdown",
   "id": "60a5d08c-4266-4ced-b339-db0c6796f798",
   "metadata": {},
   "source": [
    "---\n",
    "#### [연습]\n",
    "---"
   ]
  },
  {
   "cell_type": "code",
   "execution_count": 10,
   "id": "9cbb7810-e956-44c3-90e0-f7c744460c2e",
   "metadata": {},
   "outputs": [],
   "source": [
    "def func1(param1, param2) :\n",
    "    print(\"Hello!\", param1, param2)\n",
    "    "
   ]
  },
  {
   "cell_type": "code",
   "execution_count": 12,
   "id": "23cafc66-5604-4630-ad66-5223a89e4b90",
   "metadata": {},
   "outputs": [
    {
     "name": "stdout",
     "output_type": "stream",
     "text": [
      "Hello! 호떡 집사\n"
     ]
    }
   ],
   "source": [
    "func1('호떡','집사')"
   ]
  },
  {
   "cell_type": "code",
   "execution_count": 15,
   "id": "a0940c5d-0009-4253-84f6-5e7a9ad40958",
   "metadata": {},
   "outputs": [
    {
     "name": "stdout",
     "output_type": "stream",
     "text": [
      "[Info]\n",
      "Args: (1, 2, 3)\n",
      "Kwargs: {'name': 'Tom', 'age': 30}\n"
     ]
    }
   ],
   "source": [
    "def show_all(title, *args, **kwargs):\n",
    "    print(f\"[{title}]\")\n",
    "    print(\"Args:\", args)\n",
    "    print(\"Kwargs:\", kwargs)\n",
    "\n",
    "show_all(\"Info\", 1, 2, 3, name=\"Tom\", age=30)"
   ]
  },
  {
   "cell_type": "code",
   "execution_count": 17,
   "id": "bfca7ea3-2ff8-489f-a494-85bec46bbb3e",
   "metadata": {},
   "outputs": [],
   "source": [
    "def addDigit(num1 , num2) : \n",
    "    return int(num1) + int(num2)"
   ]
  },
  {
   "cell_type": "code",
   "execution_count": 19,
   "id": "a1560888-bb39-4bc4-8bfc-dc009205b1dd",
   "metadata": {},
   "outputs": [
    {
     "data": {
      "text/plain": [
       "3"
      ]
     },
     "execution_count": 19,
     "metadata": {},
     "output_type": "execute_result"
    }
   ],
   "source": [
    "add_num = addDigit(1,2)"
   ]
  },
  {
   "cell_type": "code",
   "execution_count": null,
   "id": "ff248f17-9657-4dbb-8ebe-e0e3e3f78e77",
   "metadata": {},
   "outputs": [],
   "source": []
  },
  {
   "cell_type": "markdown",
   "id": "2bead695-7db9-47b8-9659-bd6bb1b08412",
   "metadata": {},
   "source": [
    "### 🔖 참고(인용)\n",
    "> [인프런: 파이썬으로 크롤링 시작하기 - 기본편](https://www.inflearn.com/course/python-crawling-basic)"
   ]
  }
 ],
 "metadata": {
  "kernelspec": {
   "display_name": "Python [conda env:base] *",
   "language": "python",
   "name": "conda-base-py"
  },
  "language_info": {
   "codemirror_mode": {
    "name": "ipython",
    "version": 3
   },
   "file_extension": ".py",
   "mimetype": "text/x-python",
   "name": "python",
   "nbconvert_exporter": "python",
   "pygments_lexer": "ipython3",
   "version": "3.12.7"
  }
 },
 "nbformat": 4,
 "nbformat_minor": 5
}
