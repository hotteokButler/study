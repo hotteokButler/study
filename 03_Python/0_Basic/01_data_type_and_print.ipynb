{
 "cells": [
  {
   "cell_type": "markdown",
   "id": "9fda85de-b6f8-4c34-aa87-6392ac8b4bc1",
   "metadata": {},
   "source": [
    "### **1. 출력 : print(표현하고 싶은 내용)**"
   ]
  },
  {
   "cell_type": "code",
   "execution_count": 55,
   "id": "205391ca-d524-47b8-a82b-e2718cd1cbf4",
   "metadata": {},
   "outputs": [
    {
     "name": "stdout",
     "output_type": "stream",
     "text": [
      "hello world\n"
     ]
    }
   ],
   "source": [
    "print(\"hello world\")"
   ]
  },
  {
   "cell_type": "markdown",
   "id": "8f8d8596-0ddb-4917-b149-086aa7cbaa2f",
   "metadata": {},
   "source": [
    "#### **1-1. 계산**"
   ]
  },
  {
   "cell_type": "code",
   "execution_count": 44,
   "id": "f62c3064-e9a5-45ed-8080-6ade8dbd2e09",
   "metadata": {},
   "outputs": [
    {
     "name": "stdout",
     "output_type": "stream",
     "text": [
      "10\n",
      "7\n",
      "2.142857142857143\n",
      "3000\n",
      "2\n",
      "1\n",
      "32\n",
      "1.0\n"
     ]
    }
   ],
   "source": [
    "print(3 + 7)\n",
    "print(10 - 3)\n",
    "print(15 / 7)\n",
    "print(30 * 100)\n",
    "print(15 // 7) #몫\n",
    "print(15 % 7) #나머지\n",
    "print(2 ** 5) #제곱\n",
    "print(2 * 0.5) #소수점 곱셈"
   ]
  },
  {
   "cell_type": "markdown",
   "id": "9a907c5d-9d81-466d-a70e-c21cf2525ead",
   "metadata": {},
   "source": [
    "### 변수 (variable)"
   ]
  },
  {
   "cell_type": "code",
   "execution_count": null,
   "id": "90793831-bf98-4506-a577-13e345ee8268",
   "metadata": {},
   "outputs": [],
   "source": []
  }
 ],
 "metadata": {
  "kernelspec": {
   "display_name": "Python [conda env:base] *",
   "language": "python",
   "name": "conda-base-py"
  },
  "language_info": {
   "codemirror_mode": {
    "name": "ipython",
    "version": 3
   },
   "file_extension": ".py",
   "mimetype": "text/x-python",
   "name": "python",
   "nbconvert_exporter": "python",
   "pygments_lexer": "ipython3",
   "version": "3.12.7"
  }
 },
 "nbformat": 4,
 "nbformat_minor": 5
}
