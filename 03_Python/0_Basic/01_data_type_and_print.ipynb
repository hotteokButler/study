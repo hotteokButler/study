{
 "cells": [
  {
   "cell_type": "markdown",
   "id": "9fda85de-b6f8-4c34-aa87-6392ac8b4bc1",
   "metadata": {},
   "source": [
    "### **1. 출력 : print(표현하고 싶은 내용)**"
   ]
  },
  {
   "cell_type": "code",
   "execution_count": 55,
   "id": "205391ca-d524-47b8-a82b-e2718cd1cbf4",
   "metadata": {},
   "outputs": [
    {
     "name": "stdout",
     "output_type": "stream",
     "text": [
      "hello world\n"
     ]
    }
   ],
   "source": [
    "print(\"hello world\")"
   ]
  },
  {
   "cell_type": "markdown",
   "id": "8f8d8596-0ddb-4917-b149-086aa7cbaa2f",
   "metadata": {},
   "source": [
    "#### **1-1. 계산**"
   ]
  },
  {
   "cell_type": "code",
   "execution_count": 44,
   "id": "f62c3064-e9a5-45ed-8080-6ade8dbd2e09",
   "metadata": {},
   "outputs": [
    {
     "name": "stdout",
     "output_type": "stream",
     "text": [
      "10\n",
      "7\n",
      "2.142857142857143\n",
      "3000\n",
      "2\n",
      "1\n",
      "32\n",
      "1.0\n"
     ]
    }
   ],
   "source": [
    "print(3 + 7)\n",
    "print(10 - 3)\n",
    "print(15 / 7)\n",
    "print(30 * 100)\n",
    "print(15 // 7) #몫\n",
    "print(15 % 7) #나머지\n",
    "print(2 ** 5) #제곱\n",
    "print(2 * 0.5) #소수점 곱셈"
   ]
  },
  {
   "cell_type": "markdown",
   "id": "9a907c5d-9d81-466d-a70e-c21cf2525ead",
   "metadata": {},
   "source": [
    "### 변수 (variable)"
   ]
  },
  {
   "cell_type": "markdown",
   "id": "dd3e4797-15e9-4c2a-b8bd-67876bb0b8b6",
   "metadata": {},
   "source": [
    "- 데이터 기반,컴퓨터에 명령을 내리는 것\n",
    "- 데이터 타입 종류"
   ]
  },
  {
   "cell_type": "markdown",
   "id": "fd70482a-f814-414e-b9ca-cd5e5926b3e2",
   "metadata": {},
   "source": [
    "| 분류 (Category)         | 자료형 (Type)       | 설명 (Description)                                 | 불변/가변 (Mutable?) |\n",
    "|-------------------------|----------------------|-----------------------------------------------------|----------------------|\n",
    "| **Text Type**           | `str`               | 문자열 (예: `\"hello\"`, `'Python'`)                 | 불변 (Immutable)     |\n",
    "| **Numeric Types**       | `int`               | 정수형 (예: `1`, `-5`)                              | 불변                  |\n",
    "|                         | `float`             | 실수형 (예: `3.14`, `-0.1`)                         | 불변                  |\n",
    "|                         | `complex`           | 복소수형 (예: `1 + 2j`)                             | 불변                  |\n",
    "| **Sequence Types**      | `list`              | 리스트 (예: `[1, 2, 3]`)                            | 가변 (Mutable)       |\n",
    "|                         | `tuple`             | 튜플 (예: `(1, 2, 3)`)                              | 불변                  |\n",
    "|                         | `range`             | 범위 객체 (예: `range(0, 5)`)                       | 불변                  |\n",
    "| **Mapping Type**        | `dict`              | 딕셔너리 (예: `{\"a\": 1, \"b\": 2}`)                   | 가변                  |\n",
    "| **Set Types**           | `set`               | 집합 (예: `{1, 2, 3}`)                              | 가변                  |\n",
    "|                         | `frozenset`         | 불변 집합 (예: `frozenset([1, 2, 3])`)              | 불변                  |\n",
    "| **Boolean Type**        | `bool`              | 불리언 (예: `True`, `False`)                        | 불변                  |\n",
    "| **Binary Types**        | `bytes`             | 바이트 객체 (예: `b'abc'`)                          | 불변                  |\n",
    "|                         | `bytearray`         | 바이트 배열 (예: `bytearray([65, 66])`)            | 가변                  |\n",
    "|                         | `memoryview`        | 메모리 뷰 (버퍼 객체로 직접 접근)                  | 가변                  |"
   ]
  },
  {
   "cell_type": "code",
   "execution_count": 41,
   "id": "39891c8b-7c40-4dea-b118-1038d338d63a",
   "metadata": {},
   "outputs": [
    {
     "name": "stdout",
     "output_type": "stream",
     "text": [
      "hello~ 777 1.1 True\n",
      "\n",
      "\n",
      "문자열 (string) : hello~, 숫자->정수(integer) : 777, 숫자->부동소수점(float) : 1.1, 불리언 타입(True,False) :True\n"
     ]
    }
   ],
   "source": [
    "#기본 타입\n",
    "str_data = \"hello~\"\n",
    "int_data = 777\n",
    "float_data = 1.1\n",
    "bool_data = True\n",
    "print(str_data,int_data,float_data,bool_data)\n",
    "print(\"\\n\")\n",
    "print(\"문자열 (string) : {}, 숫자->정수(integer) : {}, 숫자->부동소수점(float) : {}, 불리언 타입(True,False) :{}\".format(str_data,int_data,float_data,bool_data))\n"
   ]
  },
  {
   "cell_type": "code",
   "execution_count": 39,
   "id": "f3194e70-0a36-4e2a-9726-d83e628b5aaa",
   "metadata": {},
   "outputs": [
    {
     "name": "stdout",
     "output_type": "stream",
     "text": [
      "True\n",
      "True\n",
      "True\n",
      "True\n",
      "False\n",
      "False\n",
      "True\n"
     ]
    }
   ],
   "source": [
    "# Boolean(True / False)\n",
    "print( 3 < 7 )\n",
    "print (10 > 3)\n",
    "print(15 > 7)\n",
    "print(3 >= 1)\n",
    "print(3 <= 1)\n",
    "print(300 == 50)\n",
    "print(300 != 50)"
   ]
  },
  {
   "cell_type": "markdown",
   "id": "88fc650c-0ac6-4ba0-82b3-4184fd9d8fd7",
   "metadata": {},
   "source": [
    "#### **1-2.입력**"
   ]
  },
  {
   "cell_type": "markdown",
   "id": "1dbd3f48-8ab4-4944-9afd-30d7ddedb5ea",
   "metadata": {},
   "source": [
    "- `input()` 함수를 통해 입력값을 받는다. 이때 입력값은 모두 string type\n",
    "- 입력 받은 값을 string 외 integer 및 bool type 등으로 사용하고 싶을 때는 형변환 필요"
   ]
  },
  {
   "cell_type": "code",
   "execution_count": 11,
   "id": "5a58b643-8461-4892-afcb-e3f0aff1d059",
   "metadata": {},
   "outputs": [
    {
     "name": "stdin",
     "output_type": "stream",
     "text": [
      "이름을 입력해 주세요 호떡이\n",
      "나이를 입력해 주세요 3\n"
     ]
    },
    {
     "name": "stdout",
     "output_type": "stream",
     "text": [
      "<class 'int'>\n",
      "이름 :호떡이 , 나이 : 3살\n"
     ]
    }
   ],
   "source": [
    "name = input(\"이름을 입력해 주세요\")\n",
    "age = int(input(\"나이를 입력해 주세요\"))\n",
    "print(type(age))\n",
    "print(\"이름 :{} , 나이 : {}살\".format(name,age)) "
   ]
  },
  {
   "cell_type": "markdown",
   "id": "689dc3d9-bff2-496c-8da9-590001de3325",
   "metadata": {},
   "source": [
    "#### **1-3.형변환**\n",
    "-  **✅ 기본 형변환 함수**\n",
    "\n",
    "| 변환 대상 | 함수 | 예시 | 결과 타입 |\n",
    "|-----------|------|------|-----------|\n",
    "| 정수로 변환 | `int()` | `int(\"10\")` | `int` |\n",
    "| 실수로 변환 | `float()` | `float(\"3.14\")` | `float` |\n",
    "| 문자열로 변환 | `str()` | `str(100)` | `str` |\n",
    "| 리스트로 변환 | `list()` | `list(\"abc\")` | `list` |\n",
    "| 튜플로 변환 | `tuple()` | `tuple([1, 2])` | `tuple` |\n",
    "| 집합으로 변환 | `set()` | `set([1, 2, 2, 3])` | `set` |\n",
    "| 불린형으로 변환 | `bool()` | `bool(0)` → `False` | `bool` |\n",
    "\n"
   ]
  },
  {
   "cell_type": "code",
   "execution_count": 24,
   "id": "15f84ffe-89d9-44bd-b06a-5b8355a05383",
   "metadata": {},
   "outputs": [
    {
     "name": "stdout",
     "output_type": "stream",
     "text": [
      "3\n",
      "3.0\n"
     ]
    }
   ],
   "source": [
    "print(int(3.65)) # 소수점 이하는 그냥 버립니다. 반올림X\n",
    "print(float(3))"
   ]
  },
  {
   "cell_type": "markdown",
   "id": "bb9ffa2f-1b23-4eff-bb63-ce5143a73663",
   "metadata": {},
   "source": [
    "### **참고**\n",
    "> [인프런: 파이썬으로 크롤링 시작하기 - 기본편](https://www.inflearn.com/course/python-crawling-basic)\n"
   ]
  }
 ],
 "metadata": {
  "kernelspec": {
   "display_name": "Python [conda env:base] *",
   "language": "python",
   "name": "conda-base-py"
  },
  "language_info": {
   "codemirror_mode": {
    "name": "ipython",
    "version": 3
   },
   "file_extension": ".py",
   "mimetype": "text/x-python",
   "name": "python",
   "nbconvert_exporter": "python",
   "pygments_lexer": "ipython3",
   "version": "3.12.7"
  }
 },
 "nbformat": 4,
 "nbformat_minor": 5
}
