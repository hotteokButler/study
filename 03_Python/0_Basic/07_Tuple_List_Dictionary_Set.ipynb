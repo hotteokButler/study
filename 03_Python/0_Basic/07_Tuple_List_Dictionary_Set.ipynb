{
 "cells": [
  {
   "cell_type": "markdown",
   "id": "cd36ec15-e9ee-458d-b8e8-12210c67746e",
   "metadata": {},
   "source": [
    "\n",
    "\n",
    "# ✅ 1. 주요 데이터 구조 (List / Tuple / Dictionary / Set)\n",
    "\n",
    "\n",
    "## 📌 1. List (리스트)\n",
    "- **정의**: 순서가 있는 값들의 변경 가능한 집합\n",
    "- **특징**: 순서 O, 중복 O, 가변(mutable)\n",
    "\n",
    "```python\n",
    "# 선언 및 입력\n",
    "fruits = [\"apple\", \"banana\", \"cherry\"]\n",
    "\n",
    "# 읽기\n",
    "print(fruits[0])         # 'apple'\n",
    "\n",
    "# 추가\n",
    "fruits.append(\"grape\")   # 맨 뒤에 추가\n",
    "fruits.insert(1, \"kiwi\") # 1번 인덱스에 삽입\n",
    "\n",
    "# 삭제\n",
    "fruits.remove(\"banana\")  # 해당 값 삭제\n",
    "fruits.pop()             # 마지막 요소 제거\n",
    "\n",
    "# 수정\n",
    "fruits[0] = \"orange\"\n",
    "```\n",
    "\n",
    "\n",
    "## 📌 2. Tuple (튜플)\n",
    "- **정의**: 순서가 있는 변경 불가능한 값들의 집합\n",
    "- **특징**: 순서 O, 중복 O, 불변(immutable)\n",
    "\n",
    "```python\n",
    "# 선언 및 입력\n",
    "point = (10, 20)\n",
    "\n",
    "# 읽기\n",
    "print(point[1])          # 20\n",
    "\n",
    "# 추가, 삭제, 수정은 불가능\n",
    "# point[0] = 5 → TypeError 발생\n",
    "```\n",
    "\n",
    "\n",
    "## 📌 3. Dictionary (딕셔너리)\n",
    "- **정의**: 키-값 쌍으로 데이터를 저장하는 구조\n",
    "- **특징**: 순서 X (Python 3.7+는 삽입 순서 유지), 키 중복 X, 값 변경 O\n",
    "\n",
    "```python\n",
    "# 선언 및 입력\n",
    "person = {\"name\": \"Alice\", \"age\": 25}\n",
    "\n",
    "# 읽기 (키로 접근)\n",
    "print(person[\"name\"])    # 'Alice'\n",
    "\n",
    "# 키만 추출\n",
    "keys = person.keys()     \n",
    "print(keys)              # dict_keys(['name', 'age'])\n",
    "\n",
    "# 추가\n",
    "person[\"city\"] = \"Seoul\"\n",
    "\n",
    "# 삭제\n",
    "del person[\"age\"]\n",
    "\n",
    "# 수정\n",
    "person[\"name\"] = \"Bob\"\n",
    "```\n",
    "\n",
    "> **메서드 요약**  \n",
    "> - `dict.keys()` : 모든 키 추출 → 예: `dict_keys(['name', 'age'])`  \n",
    "> - `dict.values()` : 모든 값 추출 → 예: `dict_values(['Alice', 25])`  \n",
    "> - `dict.items()` : (키, 값) 쌍 추출 → 예: `dict_items([('name', 'Alice'), ('age', 25)])`\n",
    "\n",
    "> **※ 필요시**: 키나 값 목록을 리스트로 변환하려면 `list(person.keys())`, `list(person.values())`, `list(person.items())`를 사용하면 됩니다.\n",
    "\n",
    "## 📌 4. Set (집합)\n",
    "- **정의**: 중복 없는 데이터들의 무순서 집합\n",
    "- **특징**: 순서 X, 중복 X, 가변(mutable)\n",
    "- **주의 사항**:  \n",
    "  - 인덱스로 접근 불가 → 반복문으로 접근해야 함  \n",
    "  - 출력 순서는 매 실행 시 달라질 수 있음\n",
    "\n",
    "```python\n",
    "# 선언 및 입력\n",
    "colors = {\"red\", \"blue\", \"green\"}\n",
    "\n",
    "# 읽기 (반복문 사용)\n",
    "for color in colors:\n",
    "    print(color)\n",
    "\n",
    "# 추가\n",
    "colors.add(\"yellow\")\n",
    "\n",
    "# 삭제\n",
    "colors.remove(\"red\")     # 없는 값 삭제 시 KeyError 발생\n",
    "colors.discard(\"pink\")   # 없는 값 삭제 시 무시\n",
    "\n",
    "# 수정 (직접 수정 불가 → 삭제 후 추가)\n",
    "colors.remove(\"blue\")\n",
    "colors.add(\"cyan\")\n",
    "```\n",
    "\n",
    "\n",
    "### 📌 **Set의 집합 연산자 및 메서드**\n",
    "\n",
    "set 자료형은 수학적 집합 연산을 지원합니다. 대표적인 연산자는 다음과 같습니다.\n",
    "\n",
    "- **합집합 (Union)**\n",
    "  - **연산자**: `|`\n",
    "  - **메서드**: `union()`\n",
    "  - **설명**: 두 집합의 모든 원소를 포함하는 집합을 반환합니다.\n",
    "  \n",
    "  ```python\n",
    "  set1 = {1, 2, 3}\n",
    "  set2 = {3, 4, 5}\n",
    "  \n",
    "  result = set1 | set2               # 결과: {1, 2, 3, 4, 5}\n",
    "  result = set1.union(set2)          # 동일 결과\n",
    "  ```\n",
    "\n",
    "- **교집합 (Intersection)**\n",
    "  - **연산자**: `&`\n",
    "  - **메서드**: `intersection()`\n",
    "  - **설명**: 두 집합 모두에 공통으로 존재하는 원소만 포함하는 집합을 반환합니다.\n",
    "  \n",
    "  ```python\n",
    "  result = set1 & set2               # 결과: {3}\n",
    "  result = set1.intersection(set2)   # 동일 결과\n",
    "  ```\n",
    "\n",
    "- **차집합 (Difference)**\n",
    "  - **연산자**: `-`\n",
    "  - **메서드**: `difference()`\n",
    "  - **설명**: 첫 번째 집합에는 있지만 두 번째 집합에는 없는 원소들을 반환합니다.\n",
    "  \n",
    "  ```python\n",
    "  result = set1 - set2               # 결과: {1, 2}\n",
    "  result = set1.difference(set2)     # 동일 결과\n",
    "  ```\n",
    "\n",
    "- **대칭 차집합 (Symmetric Difference)**\n",
    "  - **연산자**: `^`\n",
    "  - **메서드**: `symmetric_difference()`\n",
    "  - **설명**: 두 집합 중 한 집합에만 존재하는 원소들을 반환합니다.(교집합을 뺀 나머지)\n",
    "  \n",
    "  ```python\n",
    "  result = set1 ^ set2               # 결과: {1, 2, 4, 5}\n",
    "  result = set1.symmetric_difference(set2)   # 동일 결과\n",
    "  ```\n",
    "\n",
    "- **부분 집합/상위 집합**\n",
    "  - **메서드**: `issubset()`, `issuperset()`\n",
    "  - **설명**:  \n",
    "    - `set1.issubset(set2)`: set1의 모든 원소가 set2에 있다면 True  \n",
    "    - `set1.issuperset(set2)`: set1이 set2의 모든 원소를 포함하면 True\n",
    "  \n",
    "  ```python\n",
    "  A = {1, 2}\n",
    "  B = {1, 2, 3, 4}\n",
    "  \n",
    "  print(A.issubset(B))   # True\n",
    "  print(B.issuperset(A)) # True\n",
    "  ```\n",
    "\n",
    "\n",
    "# ✅ 2. 데이터 구조별 기능 비교표\n",
    "\n",
    "| 항목            | List              | Tuple             | Dictionary         | Set                         |\n",
    "|-----------------|-------------------|-------------------|--------------------|-----------------------------|\n",
    "| **선언**        | `[1, 2, 3]`       | `(1, 2, 3)`       | `{\"a\": 1}`         | `{\"a\", \"b\"}`                |\n",
    "| **읽기**        | `list[0]`         | `tuple[0]`        | `dict[\"key\"]`      | 반복문으로 접근               |\n",
    "| **추가**        | `append()`        | ❌                | `dict[\"k\"] = v`    | `add()`                     |\n",
    "| **삭제**        | `remove(), pop()` | ❌                | `del dict[\"k\"]`    | `remove(), discard()`       |\n",
    "| **수정**        | `list[0] = x`     | ❌                | `dict[\"k\"] = new_v`| 직접 수정 불가 (삭제 후 추가)  |\n",
    "| **순서 보장**    | O                | O                 | O (Python 3.7+부터) | ❌                          |\n",
    "| **중복 허용**    | O                | O                 | 키: X, 값: O       | ❌                          |\n",
    "| **변경 가능**    | O                | ❌                | O                  | O                           |\n",
    "| **주요 연산자**  | -                 | -                 | -                  | 합집합: `|` 또는 `union()`<br>교집합: `&` 또는 `intersection()`<br>차집합: `-` 또는 `difference()`<br>대칭 차집합: `^` 또는 `symmetric_difference()`<br>부분/상위 집합: `issubset()`, `issuperset()` |\n"
   ]
  },
  {
   "cell_type": "markdown",
   "id": "60a5d08c-4266-4ced-b339-db0c6796f798",
   "metadata": {},
   "source": [
    "---\n",
    "#### [연습]\n",
    "---"
   ]
  },
  {
   "cell_type": "code",
   "execution_count": 7,
   "id": "ff248f17-9657-4dbb-8ebe-e0e3e3f78e77",
   "metadata": {},
   "outputs": [],
   "source": [
    "def return_multiple(a,b,c) :\n",
    "    return a,b,c\n",
    "    "
   ]
  },
  {
   "cell_type": "code",
   "execution_count": 11,
   "id": "f56a0b59-27da-48f0-aad5-6ec1cf6e3701",
   "metadata": {},
   "outputs": [
    {
     "name": "stdout",
     "output_type": "stream",
     "text": [
      "1\n",
      "2\n",
      "3\n"
     ]
    }
   ],
   "source": [
    "a,b,c = return_multiple(1,2,3)\n",
    "print(a)\n",
    "print(b)\n",
    "print(c)"
   ]
  },
  {
   "cell_type": "code",
   "execution_count": 17,
   "id": "f6250df0-3c45-4cb2-98ac-9b664c107d85",
   "metadata": {},
   "outputs": [
    {
     "data": {
      "text/plain": [
       "(1, 2, 3, 1, 2, 3, 1, 2, 3)"
      ]
     },
     "execution_count": 17,
     "metadata": {},
     "output_type": "execute_result"
    }
   ],
   "source": [
    "tuple01 = (1,2,3)\n",
    "tuple01 * 3\n"
   ]
  },
  {
   "cell_type": "code",
   "execution_count": 21,
   "id": "0315e4e5-8ec6-4834-bd14-5ebf8301789b",
   "metadata": {},
   "outputs": [
    {
     "data": {
      "text/plain": [
       "(1, 2, 3, 1, 2, 3)"
      ]
     },
     "execution_count": 21,
     "metadata": {},
     "output_type": "execute_result"
    }
   ],
   "source": [
    "tuple01 + tuple01"
   ]
  },
  {
   "cell_type": "code",
   "execution_count": 27,
   "id": "fdb998f3-dbee-437c-86ba-a6d7d0cd4d8c",
   "metadata": {},
   "outputs": [
    {
     "name": "stdout",
     "output_type": "stream",
     "text": [
      "0\n",
      "3\n"
     ]
    }
   ],
   "source": [
    "def quot_and_rem(x,y) :\n",
    "    quot = x // y\n",
    "    rem = x % y\n",
    "    return quot, rem\n",
    "\n",
    "quot, rem = quot_and_rem(3,10)\n",
    "print(quot)\n",
    "print(rem)"
   ]
  },
  {
   "cell_type": "code",
   "execution_count": 37,
   "id": "f9ffef94-3b41-4fbf-bb18-d0cebb25121b",
   "metadata": {},
   "outputs": [
    {
     "name": "stdout",
     "output_type": "stream",
     "text": [
      "4\n",
      "2\n"
     ]
    }
   ],
   "source": [
    "def swap_x_y(x,y) : \n",
    "    (x,y) = (y,x) # tuple 활용 : temp 변수에 따로 할당해서 바꾸지 않아도 된다\n",
    "    return x,y\n",
    "\n",
    "x= 2\n",
    "y= 4\n",
    "x,y = swap_x_y(x,y)\n",
    "print(x)\n",
    "print(y)"
   ]
  },
  {
   "cell_type": "code",
   "execution_count": 41,
   "id": "68020640-4931-43b8-9b9f-f35c1578e309",
   "metadata": {},
   "outputs": [
    {
     "name": "stdout",
     "output_type": "stream",
     "text": [
      "<class 'tuple'>\n",
      "<class 'list'>\n"
     ]
    }
   ],
   "source": [
    "data_01 = (1,2,3,4)\n",
    "print(type(data_01))\n",
    "\n",
    "data_01_list = list(data_01)\n",
    "\n",
    "print(type(data_01_list))"
   ]
  },
  {
   "cell_type": "code",
   "execution_count": null,
   "id": "43d98621-4e37-4186-bab6-0acbaf5e2dc4",
   "metadata": {},
   "outputs": [],
   "source": []
  },
  {
   "cell_type": "code",
   "execution_count": null,
   "id": "143dc236-f4b4-40a1-845c-f74f7831d324",
   "metadata": {},
   "outputs": [],
   "source": []
  },
  {
   "cell_type": "code",
   "execution_count": null,
   "id": "23bcf58a-5bec-4769-9e54-2ea96b1ad200",
   "metadata": {},
   "outputs": [],
   "source": []
  },
  {
   "cell_type": "markdown",
   "id": "2bead695-7db9-47b8-9659-bd6bb1b08412",
   "metadata": {},
   "source": [
    "### 🔖 참고(인용)\n",
    "> [인프런: 파이썬으로 크롤링 시작하기 - 기본편](https://www.inflearn.com/course/python-crawling-basic)"
   ]
  }
 ],
 "metadata": {
  "kernelspec": {
   "display_name": "Python [conda env:base] *",
   "language": "python",
   "name": "conda-base-py"
  },
  "language_info": {
   "codemirror_mode": {
    "name": "ipython",
    "version": 3
   },
   "file_extension": ".py",
   "mimetype": "text/x-python",
   "name": "python",
   "nbconvert_exporter": "python",
   "pygments_lexer": "ipython3",
   "version": "3.12.7"
  }
 },
 "nbformat": 4,
 "nbformat_minor": 5
}
